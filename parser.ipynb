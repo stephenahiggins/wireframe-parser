{
 "cells": [
  {
   "cell_type": "code",
   "execution_count": 8,
   "metadata": {},
   "outputs": [
    {
     "name": "stdout",
     "output_type": "stream",
     "text": [
      "Requirement already satisfied: langchain-core in /Users/stephenhiggins/Code/arbor/data.press-app/venv/lib/python3.10/site-packages (0.2.9)\n",
      "Requirement already satisfied: langchain-openai in /Users/stephenhiggins/Code/arbor/data.press-app/venv/lib/python3.10/site-packages (0.1.8)\n",
      "Requirement already satisfied: requests in /Users/stephenhiggins/Code/arbor/data.press-app/venv/lib/python3.10/site-packages (2.28.2)\n",
      "Requirement already satisfied: pillow in /Users/stephenhiggins/Code/arbor/data.press-app/venv/lib/python3.10/site-packages (9.4.0)\n",
      "Requirement already satisfied: packaging<25,>=23.2 in /Users/stephenhiggins/Code/arbor/data.press-app/venv/lib/python3.10/site-packages (from langchain-core) (23.2)\n",
      "Requirement already satisfied: langsmith<0.2.0,>=0.1.75 in /Users/stephenhiggins/Code/arbor/data.press-app/venv/lib/python3.10/site-packages (from langchain-core) (0.1.75)\n",
      "Requirement already satisfied: pydantic<3,>=1 in /Users/stephenhiggins/Code/arbor/data.press-app/venv/lib/python3.10/site-packages (from langchain-core) (1.10.10)\n",
      "Requirement already satisfied: jsonpatch<2.0,>=1.33 in /Users/stephenhiggins/Code/arbor/data.press-app/venv/lib/python3.10/site-packages (from langchain-core) (1.33)\n",
      "Requirement already satisfied: PyYAML>=5.3 in /Users/stephenhiggins/Code/arbor/data.press-app/venv/lib/python3.10/site-packages (from langchain-core) (6.0.1)\n",
      "Requirement already satisfied: tenacity!=8.4.0,<9.0.0,>=8.1.0 in /Users/stephenhiggins/Code/arbor/data.press-app/venv/lib/python3.10/site-packages (from langchain-core) (8.3.0)\n",
      "Requirement already satisfied: tiktoken<1,>=0.7 in /Users/stephenhiggins/Code/arbor/data.press-app/venv/lib/python3.10/site-packages (from langchain-openai) (0.7.0)\n",
      "Requirement already satisfied: openai<2.0.0,>=1.26.0 in /Users/stephenhiggins/Code/arbor/data.press-app/venv/lib/python3.10/site-packages (from langchain-openai) (1.33.0)\n",
      "Requirement already satisfied: certifi>=2017.4.17 in /Users/stephenhiggins/Code/arbor/data.press-app/venv/lib/python3.10/site-packages (from requests) (2022.12.7)\n",
      "Requirement already satisfied: urllib3<1.27,>=1.21.1 in /Users/stephenhiggins/Code/arbor/data.press-app/venv/lib/python3.10/site-packages (from requests) (1.26.14)\n",
      "Requirement already satisfied: idna<4,>=2.5 in /Users/stephenhiggins/Code/arbor/data.press-app/venv/lib/python3.10/site-packages (from requests) (3.4)\n",
      "Requirement already satisfied: charset-normalizer<4,>=2 in /Users/stephenhiggins/Code/arbor/data.press-app/venv/lib/python3.10/site-packages (from requests) (2.1.1)\n",
      "Requirement already satisfied: jsonpointer>=1.9 in /Users/stephenhiggins/Code/arbor/data.press-app/venv/lib/python3.10/site-packages (from jsonpatch<2.0,>=1.33->langchain-core) (3.0.0)\n",
      "Requirement already satisfied: orjson<4.0.0,>=3.9.14 in /Users/stephenhiggins/Code/arbor/data.press-app/venv/lib/python3.10/site-packages (from langsmith<0.2.0,>=0.1.75->langchain-core) (3.10.5)\n",
      "Requirement already satisfied: typing-extensions<5,>=4.7 in /Users/stephenhiggins/Code/arbor/data.press-app/venv/lib/python3.10/site-packages (from openai<2.0.0,>=1.26.0->langchain-openai) (4.12.2)\n",
      "Requirement already satisfied: anyio<5,>=3.5.0 in /Users/stephenhiggins/Code/arbor/data.press-app/venv/lib/python3.10/site-packages (from openai<2.0.0,>=1.26.0->langchain-openai) (4.4.0)\n",
      "Requirement already satisfied: httpx<1,>=0.23.0 in /Users/stephenhiggins/Code/arbor/data.press-app/venv/lib/python3.10/site-packages (from openai<2.0.0,>=1.26.0->langchain-openai) (0.27.0)\n",
      "Requirement already satisfied: tqdm>4 in /Users/stephenhiggins/Code/arbor/data.press-app/venv/lib/python3.10/site-packages (from openai<2.0.0,>=1.26.0->langchain-openai) (4.66.4)\n",
      "Requirement already satisfied: distro<2,>=1.7.0 in /Users/stephenhiggins/Code/arbor/data.press-app/venv/lib/python3.10/site-packages (from openai<2.0.0,>=1.26.0->langchain-openai) (1.9.0)\n",
      "Requirement already satisfied: sniffio in /Users/stephenhiggins/Code/arbor/data.press-app/venv/lib/python3.10/site-packages (from openai<2.0.0,>=1.26.0->langchain-openai) (1.3.1)\n",
      "Requirement already satisfied: regex>=2022.1.18 in /Users/stephenhiggins/Code/arbor/data.press-app/venv/lib/python3.10/site-packages (from tiktoken<1,>=0.7->langchain-openai) (2024.5.15)\n",
      "Requirement already satisfied: exceptiongroup>=1.0.2 in /Users/stephenhiggins/Code/arbor/data.press-app/venv/lib/python3.10/site-packages (from anyio<5,>=3.5.0->openai<2.0.0,>=1.26.0->langchain-openai) (1.2.1)\n",
      "Requirement already satisfied: httpcore==1.* in /Users/stephenhiggins/Code/arbor/data.press-app/venv/lib/python3.10/site-packages (from httpx<1,>=0.23.0->openai<2.0.0,>=1.26.0->langchain-openai) (1.0.5)\n",
      "Requirement already satisfied: h11<0.15,>=0.13 in /Users/stephenhiggins/Code/arbor/data.press-app/venv/lib/python3.10/site-packages (from httpcore==1.*->httpx<1,>=0.23.0->openai<2.0.0,>=1.26.0->langchain-openai) (0.14.0)\n",
      "\n",
      "\u001b[1m[\u001b[0m\u001b[34;49mnotice\u001b[0m\u001b[1;39;49m]\u001b[0m\u001b[39;49m A new release of pip available: \u001b[0m\u001b[31;49m22.2.2\u001b[0m\u001b[39;49m -> \u001b[0m\u001b[32;49m24.1.2\u001b[0m\n",
      "\u001b[1m[\u001b[0m\u001b[34;49mnotice\u001b[0m\u001b[1;39;49m]\u001b[0m\u001b[39;49m To update, run: \u001b[0m\u001b[32;49mpip install --upgrade pip\u001b[0m\n",
      "Note: you may need to restart the kernel to use updated packages.\n"
     ]
    }
   ],
   "source": [
    "%pip install langchain-core langchain-openai requests pillow"
   ]
  },
  {
   "cell_type": "code",
   "execution_count": 31,
   "metadata": {},
   "outputs": [],
   "source": [
    "# Setup\n",
    "from dotenv import load_dotenv\n",
    "import os\n",
    "import base64\n",
    "import requests\n",
    "load_dotenv()\n",
    "open_ai_key = os.getenv('OPENAI_API_KEY')\n",
    "# image_path = \"./storage/info_confirm.png\"\n",
    "image_path = \"./storage/sign_up.png\"\n",
    "filename = os.path.basename(image_path)"
   ]
  },
  {
   "cell_type": "code",
   "execution_count": 32,
   "metadata": {},
   "outputs": [],
   "source": [
    "def encode_image_to_base64(image_path):\n",
    "    with open(image_path, \"rb\") as image_file:\n",
    "        encoded_string = base64.b64encode(image_file.read()).decode('utf-8')\n",
    "    return encoded_string"
   ]
  },
  {
   "cell_type": "code",
   "execution_count": 33,
   "metadata": {},
   "outputs": [],
   "source": [
    "# Getting the base64 string\n",
    "base64_image = encode_image_to_base64(image_path)\n",
    "\n",
    "headers = {\n",
    "  \"Content-Type\": \"application/json\",\n",
    "  \"Authorization\": f\"Bearer {open_ai_key}\"\n",
    "}\n",
    "\n",
    "payload = {\n",
    "  \"model\": \"gpt-4o\",\n",
    "  \"messages\": [\n",
    "    {\n",
    "      \"role\": \"user\",\n",
    "      \"content\": [\n",
    "        {\n",
    "          \"type\": \"text\",\n",
    "          \"text\": \"You are an expert software developer. You have been tasked with creating a HTML and CSS version of this user interface wireframe. You have been given the following image as a reference. Only include the full HTML and CSS. Do not truncate it. Do not include a response prompt or markdown formatting.\"\n",
    "        },\n",
    "        {\n",
    "          \"type\": \"image_url\",\n",
    "          \"image_url\": {\n",
    "            \"url\": f\"data:image/jpeg;base64,{base64_image}\"\n",
    "          }\n",
    "        }\n",
    "      ]\n",
    "    }\n",
    "  ],\n",
    "  \"max_tokens\": 2000\n",
    "}\n",
    "\n",
    "response = requests.post(\"https://api.openai.com/v1/chat/completions\", headers=headers, json=payload)"
   ]
  },
  {
   "cell_type": "code",
   "execution_count": 34,
   "metadata": {},
   "outputs": [
    {
     "name": "stdout",
     "output_type": "stream",
     "text": [
      "Response {'id': 'chatcmpl-9lZJG4uDXvP3ZPC0PLfjVVQTypR4V', 'object': 'chat.completion', 'created': 1721124174, 'model': 'gpt-4o-2024-05-13', 'choices': [{'index': 0, 'message': {'role': 'assistant', 'content': '<!DOCTYPE html>\\n<html lang=\"en\">\\n<head>\\n    <meta charset=\"UTF-8\">\\n    <meta name=\"viewport\" content=\"width=device-width, initial-scale=1.0\">\\n    <title>Sign Up Confirmation</title>\\n    <style>\\n        * {\\n            box-sizing: border-box;\\n            margin: 0;\\n            padding: 0;\\n        }\\n        \\n        body, html {\\n            height: 100%;\\n            display: flex;\\n            align-items: center;\\n            justify-content: center;\\n            font-family: Arial, sans-serif;\\n            background-color: #f0f0f0;\\n        }\\n        \\n        .container {\\n            background-color: #d3d3d3;\\n            width: 300px;\\n            padding: 20px;\\n            border-radius: 10px;\\n            text-align: center;\\n            position: relative;\\n        }\\n\\n        .icon {\\n            width: 80px;\\n            height: 80px;\\n            background-color: #6d6d6d;\\n            border-radius: 50%;\\n            margin: 0 auto;\\n            display: flex;\\n            align-items: center;\\n            justify-content: center;\\n        }\\n        \\n        .icon img {\\n            width: 40px;\\n            height: 40px;\\n        }\\n\\n        .close {\\n            position: absolute;\\n            top: 10px;\\n            right: 10px;\\n            cursor: pointer;\\n            font-size: 20px;\\n        }\\n        \\n        .message {\\n            margin-top: 20px;\\n        }\\n\\n        .message h1 {\\n            font-size: 20px;\\n            color: #333;\\n            margin-bottom: 10px;\\n        }\\n\\n        .message p {\\n            font-size: 14px;\\n            color: #666;\\n        }\\n    </style>\\n</head>\\n<body>\\n    <div class=\"container\">\\n        <div class=\"close\">&times;</div>\\n        <div class=\"icon\">\\n            <img src=\"https://via.placeholder.com/40?text=Img\" alt=\"icon\">\\n        </div>\\n        <div class=\"message\">\\n            <h1>Congratulations!</h1>\\n            <p>You have successfully<br>sign up</p>\\n        </div>\\n    </div>\\n</body>\\n</html>'}, 'logprobs': None, 'finish_reason': 'stop'}], 'usage': {'prompt_tokens': 491, 'completion_tokens': 474, 'total_tokens': 965}, 'system_fingerprint': 'fp_298125635f'}\n",
      "Tokens used 491\n"
     ]
    }
   ],
   "source": [
    "\n",
    "# Parse the response and give user feedback\n",
    "response_json = response.json();\n",
    "print(\"Response\", response_json)\n",
    "tokens = response_json['usage']['prompt_tokens']\n",
    "print(\"Tokens used\", tokens)\n",
    "content = response_json['choices'][0]['message']['content']"
   ]
  },
  {
   "cell_type": "code",
   "execution_count": 35,
   "metadata": {},
   "outputs": [],
   "source": [
    "def strip_after_html_tag(response_text):\n",
    "    # Find the index of the first occurrence of ```html\n",
    "    start_index = response_text.find(\"```html\")\n",
    "    \n",
    "    if start_index != -1:\n",
    "        # Find the index of the next occurrence of ``` (to close the HTML code block)\n",
    "        end_index = response_text.find(\"```\", start_index + len(\"```html\"))\n",
    "        \n",
    "        if end_index != -1:\n",
    "            # Include the closing tag\n",
    "            end_index += len(\"```\")\n",
    "            # Return the substring up to the closing tag of the HTML block\n",
    "            return response_text[:end_index]\n",
    "    \n",
    "    # If the tags are not found, return the original text\n",
    "    return response_text\n",
    "\n",
    "# Write the output to storage\n",
    "html_content = strip_after_html_tag(content)\n",
    "# print(html_content)\n",
    "file_path = f\"./storage/output/{filename}.html\"\n",
    "\n",
    "f = open(file_path, \"w\")\n",
    "f.write(html_content)\n",
    "f.close()"
   ]
  }
 ],
 "metadata": {
  "kernelspec": {
   "display_name": "venv",
   "language": "python",
   "name": "python3"
  },
  "language_info": {
   "codemirror_mode": {
    "name": "ipython",
    "version": 3
   },
   "file_extension": ".py",
   "mimetype": "text/x-python",
   "name": "python",
   "nbconvert_exporter": "python",
   "pygments_lexer": "ipython3",
   "version": "3.10.7"
  }
 },
 "nbformat": 4,
 "nbformat_minor": 2
}
